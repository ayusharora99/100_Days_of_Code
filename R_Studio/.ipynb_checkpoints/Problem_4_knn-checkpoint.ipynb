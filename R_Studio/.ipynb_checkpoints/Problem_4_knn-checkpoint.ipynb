{
 "cells": [
  {
   "cell_type": "code",
   "execution_count": null,
   "metadata": {},
   "outputs": [],
   "source": [
    "import pandas\n",
    "import math\n",
    "import operator\n",
    "import getopt, sys\n",
    "\n",
    "df_train = pandas.read_csv('knn_train.csv')\n",
    "df_test = pandas.read_csv('knn_test.csv')\n",
    "\n",
    "def findL1(instance1, instance2, length):\n",
    "    distance = 0\n",
    "    for i in range(1,length):\n",
    "        distance += abs(instance1[i] - instance2[i])\n",
    "    return distance\n",
    "\n",
    "def findL2(instance1, instance2, length):\n",
    "    distance = 0\n",
    "    for i in range(1,length):\n",
    "        distance += pow(instance1[i] - instance2[i], 2)\n",
    "    return math.sqrt(distance)\n",
    "\n",
    "\n",
    "def findLinf(instance1, instance2, length):\n",
    "    distances = []\n",
    "    for i in range(1,length):\n",
    "        distances.append(abs(instance1[i] - instance2[i]))\n",
    "    return max(distances)\n",
    "\n",
    "def getNeighbors(trainingSet, testInstance, k):\n",
    "    distances = []\n",
    "    length = len(testInstance)\n",
    "    for x in range(len(trainingSet)):\n",
    "        dist = findLinf(testInstance, trainingSet.iloc[x],length)\n",
    "        distances.append((trainingSet.iloc[x],dist))\n",
    "    distances.sort(key=operator.itemgetter(1))\n",
    "    neighbors = []\n",
    "    for x in range(k):\n",
    "        neighbors.append(distances[x][0])\n",
    "    return neighbors\n",
    "\n",
    "def getResponse(neighbors):\n",
    "    classVotes = {}\n",
    "    for x in range(len(neighbors)):\n",
    "        response = neighbors[x][-5]\n",
    "        if response in classVotes:\n",
    "            classVotes[response] += 1\n",
    "        else:\n",
    "            classVotes[response] = 1\n",
    "    sortedVotes = sorted(classVotes.items(), key = operator.itemgetter(1), reverse = True)\n",
    "    return sortedVotes[0][0]\n",
    "\n",
    "# python YourCodeName.py --K 3 --method L1\n",
    "def main():\n"
   ]
  },
  {
   "cell_type": "code",
   "execution_count": 11,
   "metadata": {},
   "outputs": [],
   "source": [
    "import pandas\n",
    "df_train = pandas.read_csv('knn_train.csv')\n",
    "df_test = pandas.read_csv('knn_test.csv')\n",
    "df_train.columns\n",
    "\n",
    "df_train_legit = df_train[['f1', ' f2', ' f3', ' f4']]\n",
    "df_test_legit = df_test[['f1', ' f2', ' f3', ' f4']]"
   ]
  },
  {
   "cell_type": "code",
   "execution_count": 63,
   "metadata": {},
   "outputs": [],
   "source": [
    "import math\n",
    "\n",
    "def findL1(instance1, instance2, length):\n",
    "    distance = 0\n",
    "    for i in range(1,length):\n",
    "        distance += abs(instance1[i] - instance2[i])\n",
    "    return distance\n",
    "\n",
    "def findL2(instance1, instance2, length):\n",
    "    distance = 0\n",
    "    for i in range(1,length):\n",
    "        distance += pow(instance1[i] - instance2[i], 2)\n",
    "    return math.sqrt(distance)\n",
    "\n",
    "\n",
    "def findLinf(instance1, instance2, length):\n",
    "    distances = []\n",
    "    for i in range(1,length):\n",
    "        distances.append(abs(instance1[i] - instance2[i]))\n",
    "    return max(distances)"
   ]
  },
  {
   "cell_type": "code",
   "execution_count": 102,
   "metadata": {},
   "outputs": [],
   "source": [
    "import operator \n",
    "def getNeighbors(trainingSet, testInstance, k):\n",
    "    distances = []\n",
    "    length = len(testInstance)\n",
    "    for x in range(len(trainingSet)):\n",
    "        dist = findLinf(testInstance, trainingSet.iloc[x],length)\n",
    "        distances.append((trainingSet.iloc[x],dist))\n",
    "    distances.sort(key=operator.itemgetter(1))\n",
    "    neighbors = []\n",
    "    for x in range(k):\n",
    "        neighbors.append(distances[x][0])\n",
    "    return neighbors "
   ]
  },
  {
   "cell_type": "code",
   "execution_count": 83,
   "metadata": {},
   "outputs": [],
   "source": [
    "def getResponse(neighbors):\n",
    "    classVotes = {}\n",
    "    for x in range(len(neighbors)):\n",
    "        response = neighbors[x][-5]\n",
    "        if response in classVotes:\n",
    "            classVotes[response] += 1\n",
    "        else:\n",
    "            classVotes[response] = 1\n",
    "    sortedVotes = sorted(classVotes.items(), key = operator.itemgetter(1), reverse = True)\n",
    "    return sortedVotes[0][0]"
   ]
  },
  {
   "cell_type": "code",
   "execution_count": 73,
   "metadata": {},
   "outputs": [
    {
     "name": "stdout",
     "output_type": "stream",
     "text": [
      "Distance: 2811\n"
     ]
    }
   ],
   "source": [
    "# Answer to 2\n",
    "distance1 = findL1(df_test.iloc[0], df_train.iloc[0], 5)\n",
    "print('Distance: ' + repr(distance1))"
   ]
  },
  {
   "cell_type": "code",
   "execution_count": 74,
   "metadata": {},
   "outputs": [
    {
     "name": "stdout",
     "output_type": "stream",
     "text": [
      "Distance: 2750.458689018979\n"
     ]
    }
   ],
   "source": [
    "# Answer to 3\n",
    "distance2 = findL2(df_test.iloc[0], df_train.iloc[0], 5)\n",
    "print('Distance: ' + repr(distance2))"
   ]
  },
  {
   "cell_type": "code",
   "execution_count": 75,
   "metadata": {},
   "outputs": [
    {
     "name": "stdout",
     "output_type": "stream",
     "text": [
      "Distance: 2750\n"
     ]
    }
   ],
   "source": [
    "# Answer to 4\n",
    "distance3 = findLinf(df_test.iloc[0], df_train.iloc[0], 5)\n",
    "print('Distance: ' + repr(distance3))"
   ]
  },
  {
   "cell_type": "code",
   "execution_count": 98,
   "metadata": {},
   "outputs": [
    {
     "name": "stdout",
     "output_type": "stream",
     "text": [
      "[label      -1\n",
      "f1          5\n",
      " f2        24\n",
      " f3      6000\n",
      " f4        79\n",
      "Name: 507, dtype: int64, label      -1\n",
      "f1         11\n",
      " f2        24\n",
      " f3      6000\n",
      " f4        64\n",
      "Name: 94, dtype: int64, label       1\n",
      "f1          0\n",
      " f2        26\n",
      " f3      6500\n",
      " f4        76\n",
      "Name: 483, dtype: int64, label      -1\n",
      "f1         11\n",
      " f2        22\n",
      " f3      5500\n",
      " f4        98\n",
      "Name: 220, dtype: int64, label       1\n",
      "f1          6\n",
      " f2        22\n",
      " f3      5500\n",
      " f4        28\n",
      "Name: 480, dtype: int64]\n"
     ]
    }
   ],
   "source": [
    "# Answer to 5\n",
    "neighbors = getNeighbors(df_train, df_test.iloc[0], 5)\n",
    "print(neighbors)"
   ]
  },
  {
   "cell_type": "code",
   "execution_count": 103,
   "metadata": {},
   "outputs": [
    {
     "name": "stdout",
     "output_type": "stream",
     "text": [
      "1\n",
      "-1\n",
      "-1\n",
      "1\n",
      "-1\n",
      "1\n",
      "1\n",
      "-1\n",
      "1\n",
      "-1\n"
     ]
    }
   ],
   "source": [
    "# TEST\n",
    "for x in range(len(df_test)):\n",
    "    neighbors = getNeighbors(df_train, df_test.iloc[x], 9)\n",
    "    response = getResponse(neighbors)\n",
    "    print(response)"
   ]
  }
 ],
 "metadata": {
  "kernelspec": {
   "display_name": "Python 3",
   "language": "python",
   "name": "python3"
  },
  "language_info": {
   "codemirror_mode": {
    "name": "ipython",
    "version": 3
   },
   "file_extension": ".py",
   "mimetype": "text/x-python",
   "name": "python",
   "nbconvert_exporter": "python",
   "pygments_lexer": "ipython3",
   "version": "3.7.1"
  }
 },
 "nbformat": 4,
 "nbformat_minor": 2
}
