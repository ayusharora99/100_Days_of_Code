{
 "cells": [
  {
   "cell_type": "code",
   "execution_count": 5,
   "metadata": {},
   "outputs": [],
   "source": [
    "import numpy\n",
    "import pandas\n",
    "import sklearn\n",
    "import scipy"
   ]
  },
  {
   "cell_type": "code",
   "execution_count": null,
   "metadata": {},
   "outputs": [],
   "source": [
    "# learn the distribtuion of labels, balance the dataset"
   ]
  },
  {
   "cell_type": "code",
   "execution_count": null,
   "metadata": {},
   "outputs": [],
   "source": [
    "# feature selection (remove low variance, univariate (selectKBest, RFECV, tree-based,  )"
   ]
  },
  {
   "cell_type": "code",
   "execution_count": 6,
   "metadata": {},
   "outputs": [],
   "source": [
    "# separate dataset into 2 arrays: features & labels"
   ]
  },
  {
   "cell_type": "code",
   "execution_count": null,
   "metadata": {},
   "outputs": [],
   "source": [
    "# Building \n",
    "\n",
    "#min_samples_leaf=5"
   ]
  },
  {
   "cell_type": "code",
   "execution_count": 7,
   "metadata": {},
   "outputs": [],
   "source": [
    "# Visualise your tree as you are training by using the export function. Use max_depth=3 as an initial tree depth to get a feel for how the tree is fitting to your data, and then increase the depth.\n",
    "\n",
    "# plot: tree.plot_tree(clf.fit(iris.data, iris.target)) \n",
    "\n",
    "# or \n",
    "\n",
    "# import graphviz \n",
    "#>>> dot_data = tree.export_graphviz(clf, out_file=None) \n",
    "#>>> graph = graphviz.Source(dot_data) \n",
    "#>>> graph.render(\"iris\") \n",
    "#dot_data = tree.export_graphviz(clf, out_file=None, \n",
    "#...                      feature_names=iris.feature_names,  \n",
    "#...                      class_names=iris.target_names,  \n",
    "#...                      filled=True, rounded=True,  \n",
    "#...                      special_characters=True)  \n",
    "#>>> graph = graphviz.Source(dot_data)  \n",
    "#>>> graph \n",
    "\n",
    "# or \n",
    "\n",
    "#from sklearn.datasets import load_iris\n",
    "#>>> from sklearn.tree import DecisionTreeClassifier\n",
    "#>>> from sklearn.tree.export import export_text\n",
    "#>>> iris = load_iris()\n",
    "#>>> X = iris['data']\n",
    "#>>> y = iris['target']\n",
    "#>>> decision_tree = DecisionTreeClassifier(random_state=0, max_depth=2)\n",
    "#>>> decision_tree = decision_tree.fit(X, y)\n",
    "#>>> r = export_text(decision_tree, feature_names=iris['feature_names'])\n",
    "#>>> print(r)"
   ]
  }
 ],
 "metadata": {
  "kernelspec": {
   "display_name": "Python 3",
   "language": "python",
   "name": "python3"
  },
  "language_info": {
   "codemirror_mode": {
    "name": "ipython",
    "version": 3
   },
   "file_extension": ".py",
   "mimetype": "text/x-python",
   "name": "python",
   "nbconvert_exporter": "python",
   "pygments_lexer": "ipython3",
   "version": "3.7.1"
  }
 },
 "nbformat": 4,
 "nbformat_minor": 2
}
