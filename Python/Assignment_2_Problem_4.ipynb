{
 "cells": [
  {
   "cell_type": "code",
   "execution_count": 6,
   "metadata": {},
   "outputs": [],
   "source": [
    "import pandas\n",
    "import math\n",
    "import operator\n",
    "import sys\n",
    "\n",
    "df_train = pandas.read_csv('knn_train.csv')\n",
    "df_test = pandas.read_csv('knn_test.csv')\n",
    "\n",
    "def findL1(instance1, instance2, length):\n",
    "    distance = 0\n",
    "    for i in range(1,length):\n",
    "        distance += abs(instance1[i] - instance2[i])\n",
    "    return distance\n",
    "\n",
    "def findL2(instance1, instance2, length):\n",
    "    distance = 0\n",
    "    for i in range(1,length):\n",
    "        distance += pow(instance1[i] - instance2[i], 2)\n",
    "    return math.sqrt(distance)\n",
    "\n",
    "\n",
    "def findLinf(instance1, instance2, length):\n",
    "    distances = []\n",
    "    for i in range(1,length):\n",
    "        distances.append(abs(instance1[i] - instance2[i]))\n",
    "    return max(distances)\n",
    "\n",
    "def getNeighbors(trainingSet, testInstance, k):\n",
    "    distances = []\n",
    "    length = len(testInstance)\n",
    "    for x in range(len(trainingSet)):\n",
    "        dist = findLinf(testInstance, trainingSet.iloc[x],length)\n",
    "        distances.append((trainingSet.iloc[x],dist))\n",
    "    distances.sort(key=operator.itemgetter(1))\n",
    "    neighbors = []\n",
    "    for x in range(k):\n",
    "        neighbors.append(distances[x][0])\n",
    "    return neighbors\n",
    "\n",
    "def getResponse(neighbors):\n",
    "    classVotes = {}\n",
    "    for x in range(len(neighbors)):\n",
    "        response = neighbors[x][-5]\n",
    "        if response in classVotes:\n",
    "            classVotes[response] += 1\n",
    "        else:\n",
    "            classVotes[response] = 1\n",
    "    sortedVotes = sorted(classVotes.items(), key = operator.itemgetter(1), reverse = True)\n",
    "    return sortedVotes[0][0]\n",
    "\n",
    "# python YourCodeName.py --K 3 --method L1\n",
    "def main():\n",
    "    print(str(sys.argv))"
   ]
  },
  {
   "cell_type": "code",
   "execution_count": 7,
   "metadata": {},
   "outputs": [
    {
     "name": "stdout",
     "output_type": "stream",
     "text": [
      "['/anaconda3/lib/python3.7/site-packages/ipykernel_launcher.py', '-f', '/Users/AyushArora/Library/Jupyter/runtime/kernel-ff8c346c-db5d-4cd1-9425-c0733549e3a4.json']\n"
     ]
    }
   ],
   "source": [
    "main()"
   ]
  },
  {
   "cell_type": "code",
   "execution_count": null,
   "metadata": {},
   "outputs": [],
   "source": []
  }
 ],
 "metadata": {
  "kernelspec": {
   "display_name": "Python 3",
   "language": "python",
   "name": "python3"
  },
  "language_info": {
   "codemirror_mode": {
    "name": "ipython",
    "version": 3
   },
   "file_extension": ".py",
   "mimetype": "text/x-python",
   "name": "python",
   "nbconvert_exporter": "python",
   "pygments_lexer": "ipython3",
   "version": "3.7.1"
  }
 },
 "nbformat": 4,
 "nbformat_minor": 2
}
